{
 "cells": [
  {
   "cell_type": "code",
   "execution_count": 62,
   "id": "79244794",
   "metadata": {},
   "outputs": [],
   "source": [
    "from lifelines import KaplanMeierFitter,NelsonAalenFitter,WeibullFitter,CoxPHFitter, WeibullAFTFitter\n",
    "import lifelines.datasets as dt\n",
    "from sklearn.preprocessing import LabelEncoder\n",
    "import pandas as pd\n",
    "import warnings\n",
    "import matplotlib.pyplot as plt\n",
    "import seaborn as sns\n",
    "from lifelines.statistics import logrank_test"
   ]
  },
  {
   "cell_type": "markdown",
   "id": "5d662088",
   "metadata": {},
   "source": [
    "## Select the dataset"
   ]
  },
  {
   "cell_type": "markdown",
   "id": "36867f2c",
   "metadata": {},
   "source": [
    "Other sets can include:\n",
    "* load_canadian_senators\n",
    "* load_dd\n",
    "* load_dfcv\n",
    "* load_g3\n",
    "* load_holly_molly_polly"
   ]
  },
  {
   "cell_type": "code",
   "execution_count": 63,
   "id": "0ccda3f5",
   "metadata": {},
   "outputs": [],
   "source": [
    "#load in the data\n",
    "df = dt.load_psychiatric_patients()"
   ]
  },
  {
   "cell_type": "markdown",
   "id": "01b15342",
   "metadata": {},
   "source": [
    "## Explore your set a bit"
   ]
  },
  {
   "cell_type": "markdown",
   "id": "5ec19921",
   "metadata": {},
   "source": [
    "You can try out:\n",
    "* histograms\n",
    "* bar charts\n",
    "* stacked bar charts\n",
    "* scatter plots \n",
    "* colored scatterplots\n",
    "* anything else you can think of"
   ]
  },
  {
   "cell_type": "code",
   "execution_count": 64,
   "id": "12e6f230",
   "metadata": {},
   "outputs": [
    {
     "data": {
      "text/html": [
       "<div>\n",
       "<style scoped>\n",
       "    .dataframe tbody tr th:only-of-type {\n",
       "        vertical-align: middle;\n",
       "    }\n",
       "\n",
       "    .dataframe tbody tr th {\n",
       "        vertical-align: top;\n",
       "    }\n",
       "\n",
       "    .dataframe thead th {\n",
       "        text-align: right;\n",
       "    }\n",
       "</style>\n",
       "<table border=\"1\" class=\"dataframe\">\n",
       "  <thead>\n",
       "    <tr style=\"text-align: right;\">\n",
       "      <th></th>\n",
       "      <th>Age</th>\n",
       "      <th>T</th>\n",
       "      <th>C</th>\n",
       "      <th>sex</th>\n",
       "    </tr>\n",
       "  </thead>\n",
       "  <tbody>\n",
       "    <tr>\n",
       "      <th>0</th>\n",
       "      <td>51</td>\n",
       "      <td>1</td>\n",
       "      <td>1</td>\n",
       "      <td>2</td>\n",
       "    </tr>\n",
       "    <tr>\n",
       "      <th>1</th>\n",
       "      <td>58</td>\n",
       "      <td>1</td>\n",
       "      <td>1</td>\n",
       "      <td>2</td>\n",
       "    </tr>\n",
       "    <tr>\n",
       "      <th>2</th>\n",
       "      <td>55</td>\n",
       "      <td>2</td>\n",
       "      <td>1</td>\n",
       "      <td>2</td>\n",
       "    </tr>\n",
       "    <tr>\n",
       "      <th>3</th>\n",
       "      <td>28</td>\n",
       "      <td>22</td>\n",
       "      <td>1</td>\n",
       "      <td>2</td>\n",
       "    </tr>\n",
       "    <tr>\n",
       "      <th>4</th>\n",
       "      <td>21</td>\n",
       "      <td>30</td>\n",
       "      <td>0</td>\n",
       "      <td>1</td>\n",
       "    </tr>\n",
       "  </tbody>\n",
       "</table>\n",
       "</div>"
      ],
      "text/plain": [
       "   Age   T  C  sex\n",
       "0   51   1  1    2\n",
       "1   58   1  1    2\n",
       "2   55   2  1    2\n",
       "3   28  22  1    2\n",
       "4   21  30  0    1"
      ]
     },
     "execution_count": 64,
     "metadata": {},
     "output_type": "execute_result"
    }
   ],
   "source": [
    "#get the head\n",
    "df.head()"
   ]
  },
  {
   "cell_type": "markdown",
   "id": "1e91856b",
   "metadata": {},
   "source": [
    "Try out the encoder"
   ]
  },
  {
   "cell_type": "code",
   "execution_count": 65,
   "id": "259838e7",
   "metadata": {},
   "outputs": [],
   "source": [
    "#instantiate the encoder\n",
    "le_s = LabelEncoder()\n",
    "#transform\n",
    "sex_lis = le_s.fit_transform(df['sex'])\n",
    "#put in data\n",
    "df['sex'] = sex_lis"
   ]
  },
  {
   "cell_type": "code",
   "execution_count": 66,
   "id": "44899461",
   "metadata": {},
   "outputs": [
    {
     "data": {
      "text/plain": [
       "<AxesSubplot:ylabel='Frequency'>"
      ]
     },
     "execution_count": 66,
     "metadata": {},
     "output_type": "execute_result"
    },
    {
     "data": {
      "image/png": "[encoded data removed]",
      "text/plain": [
       "<Figure size 432x288 with 1 Axes>"
      ]
     },
     "metadata": {
      "needs_background": "light"
     },
     "output_type": "display_data"
    }
   ],
   "source": [
    "#plot the histogram\n",
    "df['T'].plot(kind = 'hist')"
   ]
  },
  {
   "cell_type": "code",
   "execution_count": 67,
   "id": "d2e05b63",
   "metadata": {},
   "outputs": [
    {
     "data": {
      "text/plain": [
       "<AxesSubplot:xlabel='C'>"
      ]
     },
     "execution_count": 67,
     "metadata": {},
     "output_type": "execute_result"
    },
    {
     "data": {
      "image/png": "[encoded data removed]",
      "text/plain": [
       "<Figure size 432x288 with 1 Axes>"
      ]
     },
     "metadata": {
      "needs_background": "light"
     },
     "output_type": "display_data"
    }
   ],
   "source": [
    "#event occurance \n",
    "df.groupby('C').count()['Age'].plot(kind = 'bar')"
   ]
  },
  {
   "cell_type": "code",
   "execution_count": 68,
   "id": "b76724fd",
   "metadata": {},
   "outputs": [
    {
     "data": {
      "text/plain": [
       "<AxesSubplot:xlabel='Age', ylabel='T'>"
      ]
     },
     "execution_count": 68,
     "metadata": {},
     "output_type": "execute_result"
    },
    {
     "data": {
      "image/png": "[encoded data removed]",
      "text/plain": [
       "<Figure size 432x288 with 1 Axes>"
      ]
     },
     "metadata": {
      "needs_background": "light"
     },
     "output_type": "display_data"
    }
   ],
   "source": [
    "#plot scatter\n",
    "df.plot(x = 'Age', y = 'T', kind = 'scatter')"
   ]
  },
  {
   "cell_type": "code",
   "execution_count": 69,
   "id": "080b2480",
   "metadata": {},
   "outputs": [
    {
     "data": {
      "text/plain": [
       "<AxesSubplot:xlabel='sex'>"
      ]
     },
     "execution_count": 69,
     "metadata": {},
     "output_type": "execute_result"
    },
    {
     "data": {
      "image/png": "[encoded data removed]",
      "text/plain": [
       "<Figure size 432x288 with 1 Axes>"
      ]
     },
     "metadata": {
      "needs_background": "light"
     },
     "output_type": "display_data"
    }
   ],
   "source": [
    "#plot stacked bar chart\n",
    "df.groupby(['sex','C']).count()['Age'].unstack().plot(kind = 'bar', stacked = True)"
   ]
  },
  {
   "cell_type": "code",
   "execution_count": 70,
   "id": "228348ae",
   "metadata": {},
   "outputs": [
    {
     "data": {
      "text/plain": [
       "<AxesSubplot:xlabel='Age', ylabel='T'>"
      ]
     },
     "execution_count": 70,
     "metadata": {},
     "output_type": "execute_result"
    },
    {
     "data": {
      "image/png": "[encoded data removed]",
      "text/plain": [
       "<Figure size 432x288 with 1 Axes>"
      ]
     },
     "metadata": {
      "needs_background": "light"
     },
     "output_type": "display_data"
    }
   ],
   "source": [
    "#plot colored scatterplot\n",
    "sns.scatterplot(data = df, x = 'Age', y = 'T', hue = 'C')"
   ]
  },
  {
   "cell_type": "markdown",
   "id": "1d40b25e",
   "metadata": {},
   "source": [
    "## Survival Modeling"
   ]
  },
  {
   "cell_type": "markdown",
   "id": "b51f3162",
   "metadata": {},
   "source": [
    "Now let's get into the survival modeling, we'll go over two techniques:\n",
    "* Survival Curve\n",
    "* Cumulative Hazard Curve"
   ]
  },
  {
   "cell_type": "markdown",
   "id": "6976f6f1",
   "metadata": {},
   "source": [
    "Start by isolating your time and event columns"
   ]
  },
  {
   "cell_type": "code",
   "execution_count": 71,
   "id": "a004c9b1",
   "metadata": {},
   "outputs": [],
   "source": [
    "#get the list of time\n",
    "T = df['T']\n",
    "#get the list of event occurances\n",
    "E = df['C']"
   ]
  },
  {
   "cell_type": "markdown",
   "id": "905025a9",
   "metadata": {},
   "source": [
    "Now let's fit the Kaplan Meier curve"
   ]
  },
  {
   "cell_type": "code",
   "execution_count": 72,
   "id": "7a1f5e9f",
   "metadata": {},
   "outputs": [
    {
     "data": {
      "text/plain": [
       "<AxesSubplot:xlabel='timeline'>"
      ]
     },
     "execution_count": 72,
     "metadata": {},
     "output_type": "execute_result"
    },
    {
     "data": {
      "image/png": "[encoded data removed]",
      "text/plain": [
       "<Figure size 432x288 with 1 Axes>"
      ]
     },
     "metadata": {
      "needs_background": "light"
     },
     "output_type": "display_data"
    }
   ],
   "source": [
    "#instantiate kaplan meier curve\n",
    "km = KaplanMeierFitter()\n",
    "#fit the curve using the kaplan meier method\n",
    "km.fit(T,event_observed = E)\n",
    "#plot the kaplan meier curve\n",
    "km.plot()"
   ]
  },
  {
   "cell_type": "markdown",
   "id": "4c13452f",
   "metadata": {},
   "source": [
    "Now let's take a look at the hazard curve"
   ]
  },
  {
   "cell_type": "code",
   "execution_count": 73,
   "id": "6ab7d943",
   "metadata": {},
   "outputs": [
    {
     "data": {
      "text/plain": [
       "<AxesSubplot:xlabel='timeline'>"
      ]
     },
     "execution_count": 73,
     "metadata": {},
     "output_type": "execute_result"
    },
    {
     "data": {
      "image/png": "[encoded data removed]",
      "text/plain": [
       "<Figure size 432x288 with 1 Axes>"
      ]
     },
     "metadata": {
      "needs_background": "light"
     },
     "output_type": "display_data"
    }
   ],
   "source": [
    "#instantiate nelson aalen fitter\n",
    "na = NelsonAalenFitter(nelson_aalen_smoothing = False)\n",
    "#fit the nelson aalen curve\n",
    "na.fit(T, event_observed = E)\n",
    "#plot the nelson aalen curve\n",
    "na.plot()"
   ]
  },
  {
   "cell_type": "markdown",
   "id": "4f7d3681",
   "metadata": {},
   "source": [
    "Now try comparing some survival curves using the log rank test"
   ]
  },
  {
   "cell_type": "code",
   "execution_count": 74,
   "id": "0b70f0fe",
   "metadata": {},
   "outputs": [
    {
     "name": "stdout",
     "output_type": "stream",
     "text": [
      "<lifelines.StatisticalResult: logrank_test>\n",
      "               t_0 = -1\n",
      " null_distribution = chi squared\n",
      "degrees_of_freedom = 0\n",
      "         test_name = logrank_test\n",
      "\n",
      "---\n",
      " test_statistic   p  -log2(p)\n",
      "           0.00 NaN       NaN\n"
     ]
    }
   ],
   "source": [
    "male_group = df[df['sex'] == 1]\n",
    "female_group = df[df['sex'] == 2]\n",
    "\n",
    "\n",
    "results = logrank_test(male_group['T'], female_group['T'], event_observed_A=male_group['C'], event_observed_B=female_group['C'])\n",
    "print(results)"
   ]
  },
  {
   "cell_type": "markdown",
   "id": "6a4b367c",
   "metadata": {},
   "source": [
    "## Try a Parametric Curve"
   ]
  },
  {
   "cell_type": "code",
   "execution_count": 75,
   "id": "2e0afa23",
   "metadata": {},
   "outputs": [
    {
     "data": {
      "text/plain": [
       "<AxesSubplot:>"
      ]
     },
     "execution_count": 75,
     "metadata": {},
     "output_type": "execute_result"
    },
    {
     "data": {
      "image/png": "[encoded data removed]",
      "text/plain": [
       "<Figure size 432x288 with 1 Axes>"
      ]
     },
     "metadata": {
      "needs_background": "light"
     },
     "output_type": "display_data"
    },
    {
     "data": {
      "image/png": "[encoded data removed]",
      "text/plain": [
       "<Figure size 432x288 with 1 Axes>"
      ]
     },
     "metadata": {
      "needs_background": "light"
     },
     "output_type": "display_data"
    }
   ],
   "source": [
    "#instantiate the weibull fitter curve\n",
    "wf = WeibullFitter()\n",
    "#fit the weibull curve\n",
    "wf.fit(T,event_observed = E)\n",
    "#plot the survival function\n",
    "wf.survival_function_.plot()\n",
    "#plot the cumulative hazard curve\n",
    "wf.cumulative_hazard_.plot()"
   ]
  },
  {
   "cell_type": "markdown",
   "id": "aef9c331",
   "metadata": {},
   "source": [
    "Now make a prediction"
   ]
  },
  {
   "cell_type": "code",
   "execution_count": 76,
   "id": "661bdcaf",
   "metadata": {},
   "outputs": [
    {
     "data": {
      "text/plain": [
       "0.41837764383974685"
      ]
     },
     "execution_count": 76,
     "metadata": {},
     "output_type": "execute_result"
    }
   ],
   "source": [
    "#make a prediction using your parametric curve\n",
    "wf.predict(41)"
   ]
  },
  {
   "cell_type": "markdown",
   "id": "9e0ef22e",
   "metadata": {},
   "source": [
    "## Now let's try some to create some survival curves affected by covariates"
   ]
  },
  {
   "cell_type": "markdown",
   "id": "4732b3d8",
   "metadata": {},
   "source": [
    "Let's make these multi-covariate models:\n",
    "* CoxPH Model\n",
    "* AFT fitter model"
   ]
  },
  {
   "cell_type": "code",
   "execution_count": 77,
   "id": "99537bc1",
   "metadata": {},
   "outputs": [
    {
     "data": {
      "text/html": [
       "<div>\n",
       "<style scoped>\n",
       "    .dataframe tbody tr th:only-of-type {\n",
       "        vertical-align: middle;\n",
       "    }\n",
       "\n",
       "    .dataframe tbody tr th {\n",
       "        vertical-align: top;\n",
       "    }\n",
       "\n",
       "    .dataframe thead th {\n",
       "        text-align: right;\n",
       "    }\n",
       "</style>\n",
       "<table border=\"1\" class=\"dataframe\">\n",
       "  <tbody>\n",
       "    <tr>\n",
       "      <th>model</th>\n",
       "      <td>lifelines.CoxPHFitter</td>\n",
       "    </tr>\n",
       "    <tr>\n",
       "      <th>duration col</th>\n",
       "      <td>'T'</td>\n",
       "    </tr>\n",
       "    <tr>\n",
       "      <th>event col</th>\n",
       "      <td>'C'</td>\n",
       "    </tr>\n",
       "    <tr>\n",
       "      <th>baseline estimation</th>\n",
       "      <td>breslow</td>\n",
       "    </tr>\n",
       "    <tr>\n",
       "      <th>number of observations</th>\n",
       "      <td>26</td>\n",
       "    </tr>\n",
       "    <tr>\n",
       "      <th>number of events observed</th>\n",
       "      <td>14</td>\n",
       "    </tr>\n",
       "    <tr>\n",
       "      <th>partial log-likelihood</th>\n",
       "      <td>-27.25</td>\n",
       "    </tr>\n",
       "    <tr>\n",
       "      <th>time fit was run</th>\n",
       "      <td>2023-04-13 12:32:57 UTC</td>\n",
       "    </tr>\n",
       "  </tbody>\n",
       "</table>\n",
       "</div><table border=\"1\" class=\"dataframe\">\n",
       "  <thead>\n",
       "    <tr style=\"text-align: right;\">\n",
       "      <th style=\"min-width: 12px;\"></th>\n",
       "      <th style=\"min-width: 12px;\">coef</th>\n",
       "      <th style=\"min-width: 12px;\">exp(coef)</th>\n",
       "      <th style=\"min-width: 12px;\">se(coef)</th>\n",
       "      <th style=\"min-width: 12px;\">coef lower 95%</th>\n",
       "      <th style=\"min-width: 12px;\">coef upper 95%</th>\n",
       "      <th style=\"min-width: 12px;\">exp(coef) lower 95%</th>\n",
       "      <th style=\"min-width: 12px;\">exp(coef) upper 95%</th>\n",
       "      <th style=\"min-width: 12px;\">cmp to</th>\n",
       "      <th style=\"min-width: 12px;\">z</th>\n",
       "      <th style=\"min-width: 12px;\">p</th>\n",
       "      <th style=\"min-width: 12px;\">-log2(p)</th>\n",
       "    </tr>\n",
       "  </thead>\n",
       "  <tbody>\n",
       "    <tr>\n",
       "      <th>Age</th>\n",
       "      <td>0.21</td>\n",
       "      <td>1.23</td>\n",
       "      <td>0.06</td>\n",
       "      <td>0.09</td>\n",
       "      <td>0.32</td>\n",
       "      <td>1.10</td>\n",
       "      <td>1.38</td>\n",
       "      <td>0.00</td>\n",
       "      <td>3.56</td>\n",
       "      <td>&lt;0.005</td>\n",
       "      <td>11.40</td>\n",
       "    </tr>\n",
       "    <tr>\n",
       "      <th>sex</th>\n",
       "      <td>-0.52</td>\n",
       "      <td>0.59</td>\n",
       "      <td>0.74</td>\n",
       "      <td>-1.97</td>\n",
       "      <td>0.92</td>\n",
       "      <td>0.14</td>\n",
       "      <td>2.51</td>\n",
       "      <td>0.00</td>\n",
       "      <td>-0.71</td>\n",
       "      <td>0.48</td>\n",
       "      <td>1.07</td>\n",
       "    </tr>\n",
       "  </tbody>\n",
       "</table><br><div>\n",
       "<style scoped>\n",
       "    .dataframe tbody tr th:only-of-type {\n",
       "        vertical-align: middle;\n",
       "    }\n",
       "\n",
       "    .dataframe tbody tr th {\n",
       "        vertical-align: top;\n",
       "    }\n",
       "\n",
       "    .dataframe thead th {\n",
       "        text-align: right;\n",
       "    }\n",
       "</style>\n",
       "<table border=\"1\" class=\"dataframe\">\n",
       "  <tbody>\n",
       "    <tr>\n",
       "      <th>Concordance</th>\n",
       "      <td>0.82</td>\n",
       "    </tr>\n",
       "    <tr>\n",
       "      <th>Partial AIC</th>\n",
       "      <td>58.50</td>\n",
       "    </tr>\n",
       "    <tr>\n",
       "      <th>log-likelihood ratio test</th>\n",
       "      <td>20.91 on 2 df</td>\n",
       "    </tr>\n",
       "    <tr>\n",
       "      <th>-log2(p) of ll-ratio test</th>\n",
       "      <td>15.08</td>\n",
       "    </tr>\n",
       "  </tbody>\n",
       "</table>\n",
       "</div>"
      ],
      "text/latex": [
       "\\begin{tabular}{lrrrrrrrrrrr}\n",
       " & coef & exp(coef) & se(coef) & coef lower 95% & coef upper 95% & exp(coef) lower 95% & exp(coef) upper 95% & cmp to & z & p & -log2(p) \\\\\n",
       "covariate &  &  &  &  &  &  &  &  &  &  &  \\\\\n",
       "Age & 0.21 & 1.23 & 0.06 & 0.09 & 0.32 & 1.10 & 1.38 & 0.00 & 3.56 & 0.00 & 11.40 \\\\\n",
       "sex & -0.52 & 0.59 & 0.74 & -1.97 & 0.92 & 0.14 & 2.51 & 0.00 & -0.71 & 0.48 & 1.07 \\\\\n",
       "\\end{tabular}\n"
      ],
      "text/plain": [
       "<lifelines.CoxPHFitter: fitted with 26 total observations, 12 right-censored observations>\n",
       "             duration col = 'T'\n",
       "                event col = 'C'\n",
       "      baseline estimation = breslow\n",
       "   number of observations = 26\n",
       "number of events observed = 14\n",
       "   partial log-likelihood = -27.25\n",
       "         time fit was run = 2023-04-13 12:32:57 UTC\n",
       "\n",
       "---\n",
       "            coef  exp(coef)   se(coef)   coef lower 95%   coef upper 95%  exp(coef) lower 95%  exp(coef) upper 95%\n",
       "covariate                                                                                                         \n",
       "Age         0.21       1.23       0.06             0.09             0.32                 1.10                 1.38\n",
       "sex        -0.52       0.59       0.74            -1.97             0.92                 0.14                 2.51\n",
       "\n",
       "            cmp to     z      p   -log2(p)\n",
       "covariate                                 \n",
       "Age           0.00  3.56 <0.005      11.40\n",
       "sex           0.00 -0.71   0.48       1.07\n",
       "---\n",
       "Concordance = 0.82\n",
       "Partial AIC = 58.50\n",
       "log-likelihood ratio test = 20.91 on 2 df\n",
       "-log2(p) of ll-ratio test = 15.08"
      ]
     },
     "metadata": {},
     "output_type": "display_data"
    },
    {
     "data": {
      "text/plain": [
       "covariate\n",
       "Age    1.230629\n",
       "sex    0.592300\n",
       "Name: exp(coef), dtype: float64"
      ]
     },
     "execution_count": 77,
     "metadata": {},
     "output_type": "execute_result"
    }
   ],
   "source": [
    "#instantiate the CoxPHFitter model\n",
    "cph = CoxPHFitter()\n",
    "#fit the coxph model on the data\n",
    "cph.fit(df, duration_col = 'T', event_col = 'C')\n",
    "#print the coxph summary\n",
    "cph.print_summary()\n",
    "#get hazard ratios\n",
    "cph.hazard_ratios_"
   ]
  },
  {
   "cell_type": "markdown",
   "id": "1e293130",
   "metadata": {},
   "source": [
    "Now let's make some unique survival curves"
   ]
  },
  {
   "cell_type": "code",
   "execution_count": 78,
   "id": "3d1e0c9a",
   "metadata": {},
   "outputs": [
    {
     "data": {
      "text/plain": [
       "<AxesSubplot:>"
      ]
     },
     "execution_count": 78,
     "metadata": {},
     "output_type": "execute_result"
    },
    {
     "data": {
      "image/png": "[encoded data removed]",
      "text/plain": [
       "<Figure size 432x288 with 1 Axes>"
      ]
     },
     "metadata": {
      "needs_background": "light"
     },
     "output_type": "display_data"
    }
   ],
   "source": [
    "#create the inputs\n",
    "X = df.drop(['T','C'],axis=1)\n",
    "#create the survival functions using the coxph fitter for the first 5 entities\n",
    "survival_cph = cph.predict_survival_function(X[0:5])\n",
    "#plot the survival functions\n",
    "survival_cph.plot()"
   ]
  },
  {
   "cell_type": "markdown",
   "id": "16f7527e",
   "metadata": {},
   "source": [
    "Now let's make the cumulative hazard function"
   ]
  },
  {
   "cell_type": "code",
   "execution_count": 79,
   "id": "e6101cbb",
   "metadata": {},
   "outputs": [
    {
     "data": {
      "text/plain": [
       "<AxesSubplot:>"
      ]
     },
     "execution_count": 79,
     "metadata": {},
     "output_type": "execute_result"
    },
    {
     "data": {
      "image/png": "[encoded data removed]",
      "text/plain": [
       "<Figure size 432x288 with 1 Axes>"
      ]
     },
     "metadata": {
      "needs_background": "light"
     },
     "output_type": "display_data"
    }
   ],
   "source": [
    "#get unique hazard curves\n",
    "hazard_cph = cph.predict_cumulative_hazard(X[0:5])\n",
    "#plot unique hazard curves\n",
    "hazard_cph.plot()"
   ]
  },
  {
   "cell_type": "markdown",
   "id": "5cc2d510",
   "metadata": {},
   "source": [
    "## AFT Models"
   ]
  },
  {
   "cell_type": "markdown",
   "id": "6a7a59a2",
   "metadata": {},
   "source": [
    "Fit the weibull aft model"
   ]
  },
  {
   "cell_type": "code",
   "execution_count": 80,
   "id": "0cf0dd12",
   "metadata": {},
   "outputs": [
    {
     "data": {
      "text/plain": [
       "param    covariate\n",
       "lambda_  Age             0.891682\n",
       "         sex             1.136322\n",
       "         Intercept    2209.114575\n",
       "rho_     Intercept       1.729417\n",
       "Name: exp(coef), dtype: float64"
      ]
     },
     "execution_count": 80,
     "metadata": {},
     "output_type": "execute_result"
    }
   ],
   "source": [
    "#create the weibull aft fitter\n",
    "waft = WeibullAFTFitter()\n",
    "#fit the weibull aft fitter to the data\n",
    "waft.fit(df, duration_col = 'T', event_col = 'C')\n",
    "#get hazard ratios\n",
    "waft.hazard_ratios_"
   ]
  },
  {
   "cell_type": "markdown",
   "id": "1e076bb4",
   "metadata": {},
   "source": [
    "Let's create these unique parametric curves"
   ]
  },
  {
   "cell_type": "code",
   "execution_count": 81,
   "id": "ae052a2e",
   "metadata": {},
   "outputs": [
    {
     "data": {
      "text/plain": [
       "<AxesSubplot:>"
      ]
     },
     "execution_count": 81,
     "metadata": {},
     "output_type": "execute_result"
    },
    {
     "data": {
      "image/png": "[encoded data removed]",
      "text/plain": [
       "<Figure size 432x288 with 1 Axes>"
      ]
     },
     "metadata": {
      "needs_background": "light"
     },
     "output_type": "display_data"
    }
   ],
   "source": [
    "#create the survival function for the first 5 individuals\n",
    "survival_waft = waft.predict_survival_function(X[0:5])\n",
    "#plot the survival curves using the aft fitter\n",
    "survival_waft.plot()"
   ]
  },
  {
   "cell_type": "markdown",
   "id": "fef896a4",
   "metadata": {},
   "source": [
    "Let's create the cumulative hazard curves"
   ]
  },
  {
   "cell_type": "code",
   "execution_count": 82,
   "id": "179ced38",
   "metadata": {},
   "outputs": [
    {
     "data": {
      "text/plain": [
       "<AxesSubplot:>"
      ]
     },
     "execution_count": 82,
     "metadata": {},
     "output_type": "execute_result"
    },
    {
     "data": {
      "image/png": "[encoded data removed]",
      "text/plain": [
       "<Figure size 432x288 with 1 Axes>"
      ]
     },
     "metadata": {
      "needs_background": "light"
     },
     "output_type": "display_data"
    }
   ],
   "source": [
    "#get unique hazard curves\n",
    "hazard_waft = waft.predict_cumulative_hazard(X[0:5])\n",
    "#plot unique hazard curves\n",
    "hazard_waft.plot()"
   ]
  },
  {
   "cell_type": "markdown",
   "id": "a9507e51",
   "metadata": {},
   "source": [
    "Try some predictions:"
   ]
  },
  {
   "cell_type": "code",
   "execution_count": 83,
   "id": "51f87140",
   "metadata": {},
   "outputs": [
    {
     "data": {
      "text/html": [
       "<div>\n",
       "<style scoped>\n",
       "    .dataframe tbody tr th:only-of-type {\n",
       "        vertical-align: middle;\n",
       "    }\n",
       "\n",
       "    .dataframe tbody tr th {\n",
       "        vertical-align: top;\n",
       "    }\n",
       "\n",
       "    .dataframe thead th {\n",
       "        text-align: right;\n",
       "    }\n",
       "</style>\n",
       "<table border=\"1\" class=\"dataframe\">\n",
       "  <thead>\n",
       "    <tr style=\"text-align: right;\">\n",
       "      <th></th>\n",
       "      <th>0</th>\n",
       "    </tr>\n",
       "  </thead>\n",
       "  <tbody>\n",
       "    <tr>\n",
       "      <th>50.0</th>\n",
       "      <td>5.680287e-13</td>\n",
       "    </tr>\n",
       "  </tbody>\n",
       "</table>\n",
       "</div>"
      ],
      "text/plain": [
       "                 0\n",
       "50.0  5.680287e-13"
      ]
     },
     "execution_count": 83,
     "metadata": {},
     "output_type": "execute_result"
    }
   ],
   "source": [
    "#predict survival using the aft fitter\n",
    "waft.predict_survival_function(X.loc[0,:], times = 50)"
   ]
  }
 ],
 "metadata": {
  "kernelspec": {
   "display_name": "Python 3 (ipykernel)",
   "language": "python",
   "name": "python3"
  },
  "language_info": {
   "codemirror_mode": {
    "name": "ipython",
    "version": 3
   },
   "file_extension": ".py",
   "mimetype": "text/x-python",
   "name": "python",
   "nbconvert_exporter": "python",
   "pygments_lexer": "ipython3",
   "version": "3.8.13"
  }
 },
 "nbformat": 4,
 "nbformat_minor": 5
}
